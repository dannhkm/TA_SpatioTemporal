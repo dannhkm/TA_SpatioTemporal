{
 "cells": [
  {
   "cell_type": "code",
   "execution_count": 2,
   "id": "1e0336c3",
   "metadata": {},
   "outputs": [
    {
     "data": {
      "text/html": [
       "<style>#sk-container-id-1 {color: black;background-color: white;}#sk-container-id-1 pre{padding: 0;}#sk-container-id-1 div.sk-toggleable {background-color: white;}#sk-container-id-1 label.sk-toggleable__label {cursor: pointer;display: block;width: 100%;margin-bottom: 0;padding: 0.3em;box-sizing: border-box;text-align: center;}#sk-container-id-1 label.sk-toggleable__label-arrow:before {content: \"▸\";float: left;margin-right: 0.25em;color: #696969;}#sk-container-id-1 label.sk-toggleable__label-arrow:hover:before {color: black;}#sk-container-id-1 div.sk-estimator:hover label.sk-toggleable__label-arrow:before {color: black;}#sk-container-id-1 div.sk-toggleable__content {max-height: 0;max-width: 0;overflow: hidden;text-align: left;background-color: #f0f8ff;}#sk-container-id-1 div.sk-toggleable__content pre {margin: 0.2em;color: black;border-radius: 0.25em;background-color: #f0f8ff;}#sk-container-id-1 input.sk-toggleable__control:checked~div.sk-toggleable__content {max-height: 200px;max-width: 100%;overflow: auto;}#sk-container-id-1 input.sk-toggleable__control:checked~label.sk-toggleable__label-arrow:before {content: \"▾\";}#sk-container-id-1 div.sk-estimator input.sk-toggleable__control:checked~label.sk-toggleable__label {background-color: #d4ebff;}#sk-container-id-1 div.sk-label input.sk-toggleable__control:checked~label.sk-toggleable__label {background-color: #d4ebff;}#sk-container-id-1 input.sk-hidden--visually {border: 0;clip: rect(1px 1px 1px 1px);clip: rect(1px, 1px, 1px, 1px);height: 1px;margin: -1px;overflow: hidden;padding: 0;position: absolute;width: 1px;}#sk-container-id-1 div.sk-estimator {font-family: monospace;background-color: #f0f8ff;border: 1px dotted black;border-radius: 0.25em;box-sizing: border-box;margin-bottom: 0.5em;}#sk-container-id-1 div.sk-estimator:hover {background-color: #d4ebff;}#sk-container-id-1 div.sk-parallel-item::after {content: \"\";width: 100%;border-bottom: 1px solid gray;flex-grow: 1;}#sk-container-id-1 div.sk-label:hover label.sk-toggleable__label {background-color: #d4ebff;}#sk-container-id-1 div.sk-serial::before {content: \"\";position: absolute;border-left: 1px solid gray;box-sizing: border-box;top: 0;bottom: 0;left: 50%;z-index: 0;}#sk-container-id-1 div.sk-serial {display: flex;flex-direction: column;align-items: center;background-color: white;padding-right: 0.2em;padding-left: 0.2em;position: relative;}#sk-container-id-1 div.sk-item {position: relative;z-index: 1;}#sk-container-id-1 div.sk-parallel {display: flex;align-items: stretch;justify-content: center;background-color: white;position: relative;}#sk-container-id-1 div.sk-item::before, #sk-container-id-1 div.sk-parallel-item::before {content: \"\";position: absolute;border-left: 1px solid gray;box-sizing: border-box;top: 0;bottom: 0;left: 50%;z-index: -1;}#sk-container-id-1 div.sk-parallel-item {display: flex;flex-direction: column;z-index: 1;position: relative;background-color: white;}#sk-container-id-1 div.sk-parallel-item:first-child::after {align-self: flex-end;width: 50%;}#sk-container-id-1 div.sk-parallel-item:last-child::after {align-self: flex-start;width: 50%;}#sk-container-id-1 div.sk-parallel-item:only-child::after {width: 0;}#sk-container-id-1 div.sk-dashed-wrapped {border: 1px dashed gray;margin: 0 0.4em 0.5em 0.4em;box-sizing: border-box;padding-bottom: 0.4em;background-color: white;}#sk-container-id-1 div.sk-label label {font-family: monospace;font-weight: bold;display: inline-block;line-height: 1.2em;}#sk-container-id-1 div.sk-label-container {text-align: center;}#sk-container-id-1 div.sk-container {/* jupyter's `normalize.less` sets `[hidden] { display: none; }` but bootstrap.min.css set `[hidden] { display: none !important; }` so we also need the `!important` here to be able to override the default hidden behavior on the sphinx rendered scikit-learn.org. See: https://github.com/scikit-learn/scikit-learn/issues/21755 */display: inline-block !important;position: relative;}#sk-container-id-1 div.sk-text-repr-fallback {display: none;}</style><div id=\"sk-container-id-1\" class=\"sk-top-container\"><div class=\"sk-text-repr-fallback\"><pre>RFECV(cv=5,\n",
       "      estimator=XGBRegressor(base_score=None, booster=None, callbacks=None,\n",
       "                             colsample_bylevel=None, colsample_bynode=None,\n",
       "                             colsample_bytree=None, early_stopping_rounds=None,\n",
       "                             enable_categorical=False, eval_metric=None,\n",
       "                             feature_types=None, gamma=None, gpu_id=None,\n",
       "                             grow_policy=None, importance_type=None,\n",
       "                             interaction_constraints=None, learning_rate=None,\n",
       "                             max_bin=None, max_cat_threshold=None,\n",
       "                             max_cat_to_onehot=None, max_delta_step=None,\n",
       "                             max_depth=None, max_leaves=None,\n",
       "                             min_child_weight=None, missing=nan,\n",
       "                             monotone_constraints=None, n_estimators=100,\n",
       "                             n_jobs=None, num_parallel_tree=None,\n",
       "                             predictor=None, random_state=None, ...),\n",
       "      scoring=&#x27;neg_mean_squared_error&#x27;)</pre><b>In a Jupyter environment, please rerun this cell to show the HTML representation or trust the notebook. <br />On GitHub, the HTML representation is unable to render, please try loading this page with nbviewer.org.</b></div><div class=\"sk-container\" hidden><div class=\"sk-item sk-dashed-wrapped\"><div class=\"sk-label-container\"><div class=\"sk-label sk-toggleable\"><input class=\"sk-toggleable__control sk-hidden--visually\" id=\"sk-estimator-id-1\" type=\"checkbox\" ><label for=\"sk-estimator-id-1\" class=\"sk-toggleable__label sk-toggleable__label-arrow\">RFECV</label><div class=\"sk-toggleable__content\"><pre>RFECV(cv=5,\n",
       "      estimator=XGBRegressor(base_score=None, booster=None, callbacks=None,\n",
       "                             colsample_bylevel=None, colsample_bynode=None,\n",
       "                             colsample_bytree=None, early_stopping_rounds=None,\n",
       "                             enable_categorical=False, eval_metric=None,\n",
       "                             feature_types=None, gamma=None, gpu_id=None,\n",
       "                             grow_policy=None, importance_type=None,\n",
       "                             interaction_constraints=None, learning_rate=None,\n",
       "                             max_bin=None, max_cat_threshold=None,\n",
       "                             max_cat_to_onehot=None, max_delta_step=None,\n",
       "                             max_depth=None, max_leaves=None,\n",
       "                             min_child_weight=None, missing=nan,\n",
       "                             monotone_constraints=None, n_estimators=100,\n",
       "                             n_jobs=None, num_parallel_tree=None,\n",
       "                             predictor=None, random_state=None, ...),\n",
       "      scoring=&#x27;neg_mean_squared_error&#x27;)</pre></div></div></div><div class=\"sk-parallel\"><div class=\"sk-parallel-item\"><div class=\"sk-item\"><div class=\"sk-label-container\"><div class=\"sk-label sk-toggleable\"><input class=\"sk-toggleable__control sk-hidden--visually\" id=\"sk-estimator-id-2\" type=\"checkbox\" ><label for=\"sk-estimator-id-2\" class=\"sk-toggleable__label sk-toggleable__label-arrow\">estimator: XGBRegressor</label><div class=\"sk-toggleable__content\"><pre>XGBRegressor(base_score=None, booster=None, callbacks=None,\n",
       "             colsample_bylevel=None, colsample_bynode=None,\n",
       "             colsample_bytree=None, early_stopping_rounds=None,\n",
       "             enable_categorical=False, eval_metric=None, feature_types=None,\n",
       "             gamma=None, gpu_id=None, grow_policy=None, importance_type=None,\n",
       "             interaction_constraints=None, learning_rate=None, max_bin=None,\n",
       "             max_cat_threshold=None, max_cat_to_onehot=None,\n",
       "             max_delta_step=None, max_depth=None, max_leaves=None,\n",
       "             min_child_weight=None, missing=nan, monotone_constraints=None,\n",
       "             n_estimators=100, n_jobs=None, num_parallel_tree=None,\n",
       "             predictor=None, random_state=None, ...)</pre></div></div></div><div class=\"sk-serial\"><div class=\"sk-item\"><div class=\"sk-estimator sk-toggleable\"><input class=\"sk-toggleable__control sk-hidden--visually\" id=\"sk-estimator-id-3\" type=\"checkbox\" ><label for=\"sk-estimator-id-3\" class=\"sk-toggleable__label sk-toggleable__label-arrow\">XGBRegressor</label><div class=\"sk-toggleable__content\"><pre>XGBRegressor(base_score=None, booster=None, callbacks=None,\n",
       "             colsample_bylevel=None, colsample_bynode=None,\n",
       "             colsample_bytree=None, early_stopping_rounds=None,\n",
       "             enable_categorical=False, eval_metric=None, feature_types=None,\n",
       "             gamma=None, gpu_id=None, grow_policy=None, importance_type=None,\n",
       "             interaction_constraints=None, learning_rate=None, max_bin=None,\n",
       "             max_cat_threshold=None, max_cat_to_onehot=None,\n",
       "             max_delta_step=None, max_depth=None, max_leaves=None,\n",
       "             min_child_weight=None, missing=nan, monotone_constraints=None,\n",
       "             n_estimators=100, n_jobs=None, num_parallel_tree=None,\n",
       "             predictor=None, random_state=None, ...)</pre></div></div></div></div></div></div></div></div></div></div>"
      ],
      "text/plain": [
       "RFECV(cv=5,\n",
       "      estimator=XGBRegressor(base_score=None, booster=None, callbacks=None,\n",
       "                             colsample_bylevel=None, colsample_bynode=None,\n",
       "                             colsample_bytree=None, early_stopping_rounds=None,\n",
       "                             enable_categorical=False, eval_metric=None,\n",
       "                             feature_types=None, gamma=None, gpu_id=None,\n",
       "                             grow_policy=None, importance_type=None,\n",
       "                             interaction_constraints=None, learning_rate=None,\n",
       "                             max_bin=None, max_cat_threshold=None,\n",
       "                             max_cat_to_onehot=None, max_delta_step=None,\n",
       "                             max_depth=None, max_leaves=None,\n",
       "                             min_child_weight=None, missing=nan,\n",
       "                             monotone_constraints=None, n_estimators=100,\n",
       "                             n_jobs=None, num_parallel_tree=None,\n",
       "                             predictor=None, random_state=None, ...),\n",
       "      scoring='neg_mean_squared_error')"
      ]
     },
     "execution_count": 2,
     "metadata": {},
     "output_type": "execute_result"
    }
   ],
   "source": [
    "#Feature Selection Using RFECV\n",
    "import pandas as pd\n",
    "from sklearn.feature_selection import RFECV\n",
    "#from sklearn.linear_model import LinearRegression\n",
    "#from sklearn.ensemble import GradientBoostingRegressor\n",
    "#from sklearn.tree import DecisionTreeRegressor\n",
    "import xgboost as xgb\n",
    "import matplotlib.pyplot as plt\n",
    "\n",
    "data = pd.read_csv('Beban2023 - tanpatimestamp.csv')\n",
    "\n",
    "# Exclude the target column\n",
    "X = data.drop('Power (t)', axis=1)  # Exclude the target column\n",
    "y = data['Power (t)']\n",
    "\n",
    "#Estimator\n",
    "estimator = xgb.XGBRegressor() \n",
    "#estimator = LinearRegression()\n",
    "#estimator = GradientBoostingRegressor()\n",
    "#estimator = DecisionTreeRegressor()\n",
    "\n",
    "\n",
    "# Create an RFECV object\n",
    "rfecv = RFECV(estimator, scoring='neg_mean_squared_error', cv=5)\n",
    "#rfecv = RFECV(estimator, scoring='neg_mean_squared_error', cv=6, min_features_to_select=50)\n",
    "\n",
    "# Fit the RFECV object to the data\n",
    "rfecv.fit(X, y)\n"
   ]
  },
  {
   "cell_type": "code",
   "execution_count": 3,
   "id": "2a8ff3a0",
   "metadata": {},
   "outputs": [
    {
     "name": "stdout",
     "output_type": "stream",
     "text": [
      "Top Best Features and Their Rankings:\n",
      "Feature: Jam, Rank: 1\n",
      "Feature: Libur, Rank: 1\n",
      "Feature: Sinus Hour, Rank: 1\n",
      "Feature: Power (t-1), Rank: 1\n",
      "Feature: Power (m-1), Rank: 2\n",
      "Feature: Aoi, Rank: 3\n",
      "Feature: Elevation, Rank: 4\n",
      "Feature: Power (t-2), Rank: 5\n",
      "Feature: Rata Beban Jam, Rank: 6\n",
      "Feature: Power (d-1), Rank: 7\n",
      "Feature: Power (t-3), Rank: 8\n",
      "Feature: Humidity (t-1), Rank: 9\n",
      "Feature: Azimuth, Rank: 10\n",
      "Feature: Power (m-2), Rank: 11\n",
      "Feature: Rata Beban Minggu, Rank: 12\n",
      "Feature: Temp (t-1), Rank: 13\n",
      "Feature: Semester, Rank: 14\n",
      "Feature: PUV (t-1), Rank: 15\n",
      "Feature: PUL (t-1), Rank: 16\n",
      "Feature: Freq (t-1), Rank: 17\n",
      "Feature: Irr (t-1), Rank: 18\n",
      "Feature: Wind (t-1), Rank: 19\n",
      "Feature: Cosinus Hour, Rank: 20\n",
      "Feature: Bulan, Rank: 21\n",
      "Feature: Hari, Rank: 22\n"
     ]
    }
   ],
   "source": [
    "# Retrieve the selected features\n",
    "selected_features = X.columns[rfecv.support_]\n",
    "\n",
    "# Retrieve the ranking of features\n",
    "feature_ranking = rfecv.ranking_\n",
    "\n",
    "# Get the indices of the top best features (lowest rankings)\n",
    "top_indices = feature_ranking.argsort()[:50]\n",
    "\n",
    "# Get the names and rankings of the top best features\n",
    "top_features = X.columns[top_indices]\n",
    "top_ranks = feature_ranking[top_indices]\n",
    "\n",
    "print(\"Top Best Features and Their Rankings:\")\n",
    "for feature, rank in zip(top_features, top_ranks):\n",
    "    print(f\"Feature: {feature}, Rank: {rank}\")\n"
   ]
  },
  {
   "cell_type": "code",
   "execution_count": 4,
   "id": "27c011aa",
   "metadata": {},
   "outputs": [
    {
     "data": {
      "image/png": "[encoded data removed]",
      "text/plain": [
       "<Figure size 640x480 with 1 Axes>"
      ]
     },
     "metadata": {},
     "output_type": "display_data"
    }
   ],
   "source": [
    "import numpy as np\n",
    "\n",
    "# Plot the feature rankings\n",
    "plt.figure()\n",
    "plt.xlabel(\"Number of features selected\")\n",
    "plt.ylabel(\"Mean test accuracy\")\n",
    "plt.plot(range(1, len(rfecv.cv_results_['mean_test_score']) + 1), rfecv.cv_results_['mean_test_score'])\n",
    "plt.grid(True)\n",
    "\n",
    "# Calculate the standard deviation of the test scores\n",
    "std_test_scores = rfecv.cv_results_['std_test_score']\n",
    "\n",
    "# Set the interval for the x-axis ticks\n",
    "x_ticks = np.arange(1, len(rfecv.cv_results_['mean_test_score']) + 1, 3)  # Set interval of 3\n",
    "plt.xticks(x_ticks)\n",
    "\n",
    "# Add error bars to the plot\n",
    "plt.errorbar(range(1, len(rfecv.cv_results_['mean_test_score']) + 1), rfecv.cv_results_['mean_test_score'], yerr=std_test_scores, fmt='o')\n",
    "\n",
    "plt.show()\n"
   ]
  },
  {
   "cell_type": "code",
   "execution_count": null,
   "id": "ce78c3a8",
   "metadata": {},
   "outputs": [],
   "source": []
  }
 ],
 "metadata": {
  "kernelspec": {
   "display_name": "Python 3 (ipykernel)",
   "language": "python",
   "name": "python3"
  },
  "language_info": {
   "codemirror_mode": {
    "name": "ipython",
    "version": 3
   },
   "file_extension": ".py",
   "mimetype": "text/x-python",
   "name": "python",
   "nbconvert_exporter": "python",
   "pygments_lexer": "ipython3",
   "version": "3.9.13"
  }
 },
 "nbformat": 4,
 "nbformat_minor": 5
}
